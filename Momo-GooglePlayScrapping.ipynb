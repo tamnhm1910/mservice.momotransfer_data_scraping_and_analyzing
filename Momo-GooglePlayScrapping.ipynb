{
    "metadata": {
        "kernelspec": {
            "name": "python3",
            "display_name": "Python 3",
            "language": "python"
        },
        "language_info": {
            "name": "python",
            "version": "3.11.8",
            "mimetype": "text/x-python",
            "codemirror_mode": {
                "name": "ipython",
                "version": 3
            },
            "pygments_lexer": "ipython3",
            "nbconvert_exporter": "python",
            "file_extension": ".py"
        }
    },
    "nbformat_minor": 2,
    "nbformat": 4,
    "cells": [
        {
            "cell_type": "code",
            "source": [
                "from google_play_scraper import app, Sort, reviews_all\r\n",
                "import pandas as pd\r\n",
                "import numpy as np\r\n",
                "import json, os, uuid\r\n",
                "\r\n",
                "g_reviews = reviews_all(\r\n",
                "        \"com.mservice.momotransfer\",\r\n",
                "        sleep_milliseconds=0, # defaults to 0\r\n",
                "        lang='vi', # defaults to 'en'\r\n",
                "        country='vn', # defaults to 'us'\r\n",
                "        sort=Sort.NEWEST, # defaults to Sort.MOST_RELEVANT\r\n",
                "    )\r\n",
                "\r\n",
                "g_df = pd.DataFrame(np.array(g_reviews),columns=['review'])\r\n",
                "g_df2 = g_df.join(pd.DataFrame(g_df.pop('review').tolist()))\r\n",
                "\r\n",
                "g_df2.drop(columns={'userImage', 'reviewCreatedVersion'},inplace = True)\r\n",
                "g_df2.rename(columns= {'score': 'rating','userName': 'user_name', 'reviewId': 'review_id', 'content': 'review_description', 'at': 'review_date', 'replyContent': 'developer_response', 'repliedAt': 'developer_response_date', 'thumbsUpCount': 'thumbs_up'},inplace = True)\r\n",
                "g_df2.insert(loc=0, column='source', value='Google Play')\r\n",
                "g_df2.insert(loc=3, column='review_title', value=None)\r\n",
                "g_df2['laguage_code'] = 'vi'\r\n",
                "g_df2['country_code'] = 'vn'\r\n",
                "\r\n",
                "result = print(g_df2)\r\n",
                "result"
            ],
            "metadata": {
                "language": "python",
                "azdata_cell_guid": "429b1fbe-f045-466b-a50a-92e880cede8b",
                "tags": []
            },
            "outputs": [
                {
                    "output_type": "stream",
                    "name": "stdout",
                    "text": "            source                             review_id          user_name  \\\n0      Google Play  b9caafa0-5a57-4ce0-8958-bc4a9e48020c  Người dùng Google   \n1      Google Play  2bc72613-7d04-4666-968e-68112c642b1e  Người dùng Google   \n2      Google Play  ac46623d-fa54-4510-a9cf-0e3b2e3db107  Người dùng Google   \n3      Google Play  ed18327c-b72b-4d53-b16e-980a69122c2e  Người dùng Google   \n4      Google Play  06261246-875d-4fcf-aa47-b2b6ce3c13a2  Người dùng Google   \n...            ...                                   ...                ...   \n44995  Google Play  1c5496e7-34b4-4473-898f-73b706af25fd  Người dùng Google   \n44996  Google Play  a7d2b687-440c-4a98-b487-e65421683562  Người dùng Google   \n44997  Google Play  db1f645f-9afb-4d5f-8740-0e17255e0d6b  Người dùng Google   \n44998  Google Play  81f6f021-3984-4543-ab97-b7eeeb7f4123  Người dùng Google   \n44999  Google Play  50b823bb-182d-4947-af5c-4b957d3b2db0  Người dùng Google   \n\n      review_title                                 review_description  rating  \\\n0             None  Mọi người qua zalo gửi tiết kiệm đi, được 4.2%...       1   \n1             None  Bị mất tiền, khiếu nại 2 ngày mới gặp CSKH. Hư...       1   \n2             None                              Ko vô đc load lâu qua       2   \n3             None                 Yêu cầu khắc phục sửa lối quét NFC       1   \n4             None  Có thể tắt tính năng hỏi bật vị trí khi vào ưu...       1   \n...            ...                                                ...     ...   \n44995         None                                                 Ok       5   \n44996         None                                                Tot       5   \n44997         None  Quá tệ nạp tiền thì chậm rút tiền về k được .....       1   \n44998         None                                                 Ok       5   \n44999         None                                                 Ok       5   \n\n       thumbs_up         review_date developer_response  \\\n0              0 2024-06-08 16:24:26               None   \n1              0 2024-06-08 15:40:49               None   \n2              0 2024-06-08 14:20:00               None   \n3              1 2024-06-08 14:10:48               None   \n4              0 2024-06-08 13:47:41               None   \n...          ...                 ...                ...   \n44995          0 2022-09-25 17:47:28               None   \n44996          0 2022-09-25 17:41:53               None   \n44997          0 2022-09-25 17:40:21               None   \n44998          0 2022-09-25 17:31:28               None   \n44999          1 2022-09-25 17:29:40               None   \n\n      developer_response_date appVersion laguage_code country_code  \n0                         NaT     4.1.17           vi           vn  \n1                         NaT       None           vi           vn  \n2                         NaT       None           vi           vn  \n3                         NaT     4.1.21           vi           vn  \n4                         NaT     4.1.20           vi           vn  \n...                       ...        ...          ...          ...  \n44995                     NaT      4.0.3           vi           vn  \n44996                     NaT       None           vi           vn  \n44997                     NaT      4.0.3           vi           vn  \n44998                     NaT      4.0.3           vi           vn  \n44999                     NaT      4.0.4           vi           vn  \n\n[45000 rows x 13 columns]\n"
                }
            ],
            "execution_count": 210
        },
        {
            "cell_type": "code",
            "source": [
                "# Specify the file path where you want to save the CSV file on your laptop\r\n",
                "file_path = 'C:/Users/DELL/Desktop/g_df2.csv'  # Update with correct path\r\n",
                "\r\n",
                "# Save the DataFrame to a CSV file\r\n",
                "g_df2.to_csv(file_path, index=False)\r\n",
                "\r\n",
                "# Print a message to confirm that the file has been saved\r\n",
                "print(f\"DataFrame has been saved to '{file_path}'\")\r\n",
                ""
            ],
            "metadata": {
                "language": "python",
                "azdata_cell_guid": "89c0e35d-9d9c-4fa0-ae08-575717ace027"
            },
            "outputs": [
                {
                    "output_type": "stream",
                    "name": "stdout",
                    "text": "DataFrame has been saved to 'C:/Users/DELL/Desktop/g_df2.csv'\n"
                }
            ],
            "execution_count": 214
        }
    ]
}